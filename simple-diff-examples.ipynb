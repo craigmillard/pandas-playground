{
 "cells": [
  {
   "cell_type": "code",
   "execution_count": 67,
   "id": "1b3b27e2-c4a7-47e7-be96-f6e6f946fc55",
   "metadata": {},
   "outputs": [],
   "source": [
    "import pandas as pd"
   ]
  },
  {
   "cell_type": "code",
   "execution_count": 35,
   "id": "b90ffbd2-bbd7-4690-bad2-aacad715aa3b",
   "metadata": {},
   "outputs": [
    {
     "data": {
      "text/html": [
       "<div>\n",
       "<style scoped>\n",
       "    .dataframe tbody tr th:only-of-type {\n",
       "        vertical-align: middle;\n",
       "    }\n",
       "\n",
       "    .dataframe tbody tr th {\n",
       "        vertical-align: top;\n",
       "    }\n",
       "\n",
       "    .dataframe thead th {\n",
       "        text-align: right;\n",
       "    }\n",
       "</style>\n",
       "<table border=\"1\" class=\"dataframe\">\n",
       "  <thead>\n",
       "    <tr style=\"text-align: right;\">\n",
       "      <th></th>\n",
       "      <th>id</th>\n",
       "      <th>species</th>\n",
       "      <th>species_count</th>\n",
       "    </tr>\n",
       "  </thead>\n",
       "  <tbody>\n",
       "    <tr>\n",
       "      <th>0</th>\n",
       "      <td>1</td>\n",
       "      <td>salmon</td>\n",
       "      <td>1</td>\n",
       "    </tr>\n",
       "  </tbody>\n",
       "</table>\n",
       "</div>"
      ],
      "text/plain": [
       "   id species  species_count\n",
       "0   1  salmon              1"
      ]
     },
     "metadata": {},
     "output_type": "display_data"
    },
    {
     "data": {
      "text/html": [
       "<div>\n",
       "<style scoped>\n",
       "    .dataframe tbody tr th:only-of-type {\n",
       "        vertical-align: middle;\n",
       "    }\n",
       "\n",
       "    .dataframe tbody tr th {\n",
       "        vertical-align: top;\n",
       "    }\n",
       "\n",
       "    .dataframe thead th {\n",
       "        text-align: right;\n",
       "    }\n",
       "</style>\n",
       "<table border=\"1\" class=\"dataframe\">\n",
       "  <thead>\n",
       "    <tr style=\"text-align: right;\">\n",
       "      <th></th>\n",
       "      <th>id</th>\n",
       "      <th>species</th>\n",
       "      <th>species_count</th>\n",
       "    </tr>\n",
       "  </thead>\n",
       "  <tbody>\n",
       "    <tr>\n",
       "      <th>0</th>\n",
       "      <td>1</td>\n",
       "      <td>salmon</td>\n",
       "      <td>2</td>\n",
       "    </tr>\n",
       "  </tbody>\n",
       "</table>\n",
       "</div>"
      ],
      "text/plain": [
       "   id species  species_count\n",
       "0   1  salmon              2"
      ]
     },
     "metadata": {},
     "output_type": "display_data"
    },
    {
     "name": "stdout",
     "output_type": "stream",
     "text": [
      "Record Changed\n"
     ]
    },
    {
     "data": {
      "text/html": [
       "<div>\n",
       "<style scoped>\n",
       "    .dataframe tbody tr th:only-of-type {\n",
       "        vertical-align: middle;\n",
       "    }\n",
       "\n",
       "    .dataframe tbody tr th {\n",
       "        vertical-align: top;\n",
       "    }\n",
       "\n",
       "    .dataframe thead th {\n",
       "        text-align: right;\n",
       "    }\n",
       "</style>\n",
       "<table border=\"1\" class=\"dataframe\">\n",
       "  <thead>\n",
       "    <tr style=\"text-align: right;\">\n",
       "      <th></th>\n",
       "      <th>id</th>\n",
       "      <th>species</th>\n",
       "      <th>species_count</th>\n",
       "    </tr>\n",
       "  </thead>\n",
       "  <tbody>\n",
       "    <tr>\n",
       "      <th>0</th>\n",
       "      <td>NaN</td>\n",
       "      <td>NaN</td>\n",
       "      <td>2</td>\n",
       "    </tr>\n",
       "  </tbody>\n",
       "</table>\n",
       "</div>"
      ],
      "text/plain": [
       "   id species  species_count\n",
       "0 NaN     NaN              2"
      ]
     },
     "metadata": {},
     "output_type": "display_data"
    }
   ],
   "source": [
    "\n",
    "#Change in a row from prior record\n",
    "original = pandas.read_csv(f\"data-sources/row-change.csv\", header=0)\n",
    "display(original)\n",
    "changed = pandas.read_csv(f\"data-sources/row-change-diff.csv\")\n",
    "display(changed)\n",
    "compared = original.compare(changed, keep_shape=True)\n",
    "compared.columns = compared.columns.get_level_values(0)\n",
    "new = compared.loc[:,~compared.columns.duplicated(keep='last')]\n",
    "print(\"Record Changed\")\n",
    "display(new)\n",
    "\n"
   ]
  },
  {
   "cell_type": "code",
   "execution_count": 55,
   "id": "01031592-cc76-4ed1-9a60-e894d950a392",
   "metadata": {},
   "outputs": [
    {
     "data": {
      "text/html": [
       "<div>\n",
       "<style scoped>\n",
       "    .dataframe tbody tr th:only-of-type {\n",
       "        vertical-align: middle;\n",
       "    }\n",
       "\n",
       "    .dataframe tbody tr th {\n",
       "        vertical-align: top;\n",
       "    }\n",
       "\n",
       "    .dataframe thead th {\n",
       "        text-align: right;\n",
       "    }\n",
       "</style>\n",
       "<table border=\"1\" class=\"dataframe\">\n",
       "  <thead>\n",
       "    <tr style=\"text-align: right;\">\n",
       "      <th></th>\n",
       "      <th>id</th>\n",
       "      <th>species</th>\n",
       "      <th>species_count</th>\n",
       "    </tr>\n",
       "  </thead>\n",
       "  <tbody>\n",
       "    <tr>\n",
       "      <th>0</th>\n",
       "      <td>1</td>\n",
       "      <td>salmon</td>\n",
       "      <td>1</td>\n",
       "    </tr>\n",
       "    <tr>\n",
       "      <th>1</th>\n",
       "      <td>2</td>\n",
       "      <td>salmon</td>\n",
       "      <td>5</td>\n",
       "    </tr>\n",
       "  </tbody>\n",
       "</table>\n",
       "</div>"
      ],
      "text/plain": [
       "   id species  species_count\n",
       "0   1  salmon              1\n",
       "1   2  salmon              5"
      ]
     },
     "metadata": {},
     "output_type": "display_data"
    },
    {
     "data": {
      "text/html": [
       "<div>\n",
       "<style scoped>\n",
       "    .dataframe tbody tr th:only-of-type {\n",
       "        vertical-align: middle;\n",
       "    }\n",
       "\n",
       "    .dataframe tbody tr th {\n",
       "        vertical-align: top;\n",
       "    }\n",
       "\n",
       "    .dataframe thead th {\n",
       "        text-align: right;\n",
       "    }\n",
       "</style>\n",
       "<table border=\"1\" class=\"dataframe\">\n",
       "  <thead>\n",
       "    <tr style=\"text-align: right;\">\n",
       "      <th></th>\n",
       "      <th>id</th>\n",
       "      <th>species</th>\n",
       "      <th>species_count</th>\n",
       "    </tr>\n",
       "  </thead>\n",
       "  <tbody>\n",
       "    <tr>\n",
       "      <th>0</th>\n",
       "      <td>1</td>\n",
       "      <td>salmon</td>\n",
       "      <td>1</td>\n",
       "    </tr>\n",
       "  </tbody>\n",
       "</table>\n",
       "</div>"
      ],
      "text/plain": [
       "   id species  species_count\n",
       "0   1  salmon              1"
      ]
     },
     "metadata": {},
     "output_type": "display_data"
    },
    {
     "name": "stdout",
     "output_type": "stream",
     "text": [
      "Record Deleted\n"
     ]
    },
    {
     "data": {
      "text/html": [
       "<div>\n",
       "<style scoped>\n",
       "    .dataframe tbody tr th:only-of-type {\n",
       "        vertical-align: middle;\n",
       "    }\n",
       "\n",
       "    .dataframe tbody tr th {\n",
       "        vertical-align: top;\n",
       "    }\n",
       "\n",
       "    .dataframe thead th {\n",
       "        text-align: right;\n",
       "    }\n",
       "</style>\n",
       "<table border=\"1\" class=\"dataframe\">\n",
       "  <thead>\n",
       "    <tr style=\"text-align: right;\">\n",
       "      <th></th>\n",
       "      <th>id</th>\n",
       "      <th>species</th>\n",
       "      <th>species_count</th>\n",
       "    </tr>\n",
       "  </thead>\n",
       "  <tbody>\n",
       "    <tr>\n",
       "      <th>1</th>\n",
       "      <td>2.0</td>\n",
       "      <td>salmon</td>\n",
       "      <td>5.0</td>\n",
       "    </tr>\n",
       "  </tbody>\n",
       "</table>\n",
       "</div>"
      ],
      "text/plain": [
       "    id species  species_count\n",
       "1  2.0  salmon            5.0"
      ]
     },
     "metadata": {},
     "output_type": "display_data"
    }
   ],
   "source": [
    "#delete record\n",
    "original = pandas.read_csv(f\"data-sources/row-delete.csv\", header=0)\n",
    "display(original)\n",
    "changed = pandas.read_csv(f\"data-sources/row-delete-diff.csv\")\n",
    "display(changed)\n",
    "compared = changed.reindex_like(original).compare(original)\n",
    "compared.columns = compared.columns.get_level_values(0)\n",
    "new = compared.loc[:,~compared.columns.duplicated(keep='last')]\n",
    "print('Record Deleted')\n",
    "display(new)\n",
    "\n"
   ]
  },
  {
   "cell_type": "code",
   "execution_count": 49,
   "id": "62272dc7-52e8-4b13-9a0a-9284826b3a48",
   "metadata": {},
   "outputs": [
    {
     "data": {
      "text/html": [
       "<div>\n",
       "<style scoped>\n",
       "    .dataframe tbody tr th:only-of-type {\n",
       "        vertical-align: middle;\n",
       "    }\n",
       "\n",
       "    .dataframe tbody tr th {\n",
       "        vertical-align: top;\n",
       "    }\n",
       "\n",
       "    .dataframe thead th {\n",
       "        text-align: right;\n",
       "    }\n",
       "</style>\n",
       "<table border=\"1\" class=\"dataframe\">\n",
       "  <thead>\n",
       "    <tr style=\"text-align: right;\">\n",
       "      <th></th>\n",
       "      <th>id</th>\n",
       "      <th>species</th>\n",
       "      <th>species_count</th>\n",
       "    </tr>\n",
       "  </thead>\n",
       "  <tbody>\n",
       "    <tr>\n",
       "      <th>0</th>\n",
       "      <td>1</td>\n",
       "      <td>salmon</td>\n",
       "      <td>1</td>\n",
       "    </tr>\n",
       "  </tbody>\n",
       "</table>\n",
       "</div>"
      ],
      "text/plain": [
       "   id species  species_count\n",
       "0   1  salmon              1"
      ]
     },
     "metadata": {},
     "output_type": "display_data"
    },
    {
     "data": {
      "text/html": [
       "<div>\n",
       "<style scoped>\n",
       "    .dataframe tbody tr th:only-of-type {\n",
       "        vertical-align: middle;\n",
       "    }\n",
       "\n",
       "    .dataframe tbody tr th {\n",
       "        vertical-align: top;\n",
       "    }\n",
       "\n",
       "    .dataframe thead th {\n",
       "        text-align: right;\n",
       "    }\n",
       "</style>\n",
       "<table border=\"1\" class=\"dataframe\">\n",
       "  <thead>\n",
       "    <tr style=\"text-align: right;\">\n",
       "      <th></th>\n",
       "      <th>id</th>\n",
       "      <th>species</th>\n",
       "      <th>species_count</th>\n",
       "    </tr>\n",
       "  </thead>\n",
       "  <tbody>\n",
       "    <tr>\n",
       "      <th>0</th>\n",
       "      <td>1</td>\n",
       "      <td>salmon</td>\n",
       "      <td>1</td>\n",
       "    </tr>\n",
       "    <tr>\n",
       "      <th>1</th>\n",
       "      <td>2</td>\n",
       "      <td>pollock</td>\n",
       "      <td>2</td>\n",
       "    </tr>\n",
       "  </tbody>\n",
       "</table>\n",
       "</div>"
      ],
      "text/plain": [
       "   id  species  species_count\n",
       "0   1   salmon              1\n",
       "1   2  pollock              2"
      ]
     },
     "metadata": {},
     "output_type": "display_data"
    },
    {
     "data": {
      "text/html": [
       "<div>\n",
       "<style scoped>\n",
       "    .dataframe tbody tr th:only-of-type {\n",
       "        vertical-align: middle;\n",
       "    }\n",
       "\n",
       "    .dataframe tbody tr th {\n",
       "        vertical-align: top;\n",
       "    }\n",
       "\n",
       "    .dataframe thead th {\n",
       "        text-align: right;\n",
       "    }\n",
       "</style>\n",
       "<table border=\"1\" class=\"dataframe\">\n",
       "  <thead>\n",
       "    <tr style=\"text-align: right;\">\n",
       "      <th></th>\n",
       "      <th>id</th>\n",
       "      <th>species</th>\n",
       "      <th>species_count</th>\n",
       "    </tr>\n",
       "  </thead>\n",
       "  <tbody>\n",
       "    <tr>\n",
       "      <th>1</th>\n",
       "      <td>2</td>\n",
       "      <td>pollock</td>\n",
       "      <td>2</td>\n",
       "    </tr>\n",
       "  </tbody>\n",
       "</table>\n",
       "</div>"
      ],
      "text/plain": [
       "   id  species  species_count\n",
       "1   2  pollock              2"
      ]
     },
     "metadata": {},
     "output_type": "display_data"
    }
   ],
   "source": [
    "#add record\n",
    "original = pandas.read_csv(f\"data-sources/row-add.csv\", header=0)\n",
    "display(original)\n",
    "changed = pandas.read_csv(f\"data-sources/row-add-diff.csv\")\n",
    "display(changed)\n",
    "new = changed[ ~changed.id.isin(original.id)].dropna()\n",
    "display(new)\n",
    "\n"
   ]
  },
  {
   "cell_type": "code",
   "execution_count": 75,
   "id": "661743b9-0fbc-406f-804c-960dfa79b148",
   "metadata": {},
   "outputs": [
    {
     "data": {
      "image/png": "[encoded data removed]",
      "text/plain": [
       "<Figure size 800x600 with 1 Axes>"
      ]
     },
     "metadata": {},
     "output_type": "display_data"
    },
    {
     "data": {
      "image/png": "[encoded data removed]",
      "text/plain": [
       "<Figure size 1200x800 with 1 Axes>"
      ]
     },
     "metadata": {},
     "output_type": "display_data"
    },
    {
     "name": "stdout",
     "output_type": "stream",
     "text": [
      "Rows Added:\n"
     ]
    },
    {
     "data": {
      "text/html": [
       "<div>\n",
       "<style scoped>\n",
       "    .dataframe tbody tr th:only-of-type {\n",
       "        vertical-align: middle;\n",
       "    }\n",
       "\n",
       "    .dataframe tbody tr th {\n",
       "        vertical-align: top;\n",
       "    }\n",
       "\n",
       "    .dataframe thead th {\n",
       "        text-align: right;\n",
       "    }\n",
       "</style>\n",
       "<table border=\"1\" class=\"dataframe\">\n",
       "  <thead>\n",
       "    <tr style=\"text-align: right;\">\n",
       "      <th></th>\n",
       "      <th>id</th>\n",
       "      <th>species_old</th>\n",
       "      <th>species_count_old</th>\n",
       "      <th>species_new</th>\n",
       "      <th>species_count_new</th>\n",
       "      <th>_merge</th>\n",
       "    </tr>\n",
       "  </thead>\n",
       "  <tbody>\n",
       "    <tr>\n",
       "      <th>0</th>\n",
       "      <td>4</td>\n",
       "      <td>NaN</td>\n",
       "      <td>NaN</td>\n",
       "      <td>salmon</td>\n",
       "      <td>4.0</td>\n",
       "      <td>right_only</td>\n",
       "    </tr>\n",
       "  </tbody>\n",
       "</table>\n",
       "</div>"
      ],
      "text/plain": [
       "   id species_old  species_count_old species_new  species_count_new  \\\n",
       "0   4         NaN                NaN      salmon                4.0   \n",
       "\n",
       "       _merge  \n",
       "0  right_only  "
      ]
     },
     "metadata": {},
     "output_type": "display_data"
    },
    {
     "name": "stdout",
     "output_type": "stream",
     "text": [
      "Rows Removed:\n"
     ]
    },
    {
     "data": {
      "text/html": [
       "<div>\n",
       "<style scoped>\n",
       "    .dataframe tbody tr th:only-of-type {\n",
       "        vertical-align: middle;\n",
       "    }\n",
       "\n",
       "    .dataframe tbody tr th {\n",
       "        vertical-align: top;\n",
       "    }\n",
       "\n",
       "    .dataframe thead th {\n",
       "        text-align: right;\n",
       "    }\n",
       "</style>\n",
       "<table border=\"1\" class=\"dataframe\">\n",
       "  <thead>\n",
       "    <tr style=\"text-align: right;\">\n",
       "      <th></th>\n",
       "      <th>id</th>\n",
       "      <th>species_old</th>\n",
       "      <th>species_count_old</th>\n",
       "      <th>species_new</th>\n",
       "      <th>species_count_new</th>\n",
       "      <th>_merge</th>\n",
       "    </tr>\n",
       "  </thead>\n",
       "  <tbody>\n",
       "    <tr>\n",
       "      <th>0</th>\n",
       "      <td>1</td>\n",
       "      <td>salmon</td>\n",
       "      <td>1.0</td>\n",
       "      <td>NaN</td>\n",
       "      <td>NaN</td>\n",
       "      <td>left_only</td>\n",
       "    </tr>\n",
       "  </tbody>\n",
       "</table>\n",
       "</div>"
      ],
      "text/plain": [
       "   id species_old  species_count_old species_new  species_count_new     _merge\n",
       "0   1      salmon                1.0         NaN                NaN  left_only"
      ]
     },
     "metadata": {},
     "output_type": "display_data"
    },
    {
     "name": "stdout",
     "output_type": "stream",
     "text": [
      "ID: 2 - Changed Columns: ['species_count']\n"
     ]
    },
    {
     "data": {
      "text/plain": [
       "id                     2\n",
       "species_count_old    5.0\n",
       "species_count_new    6.0\n",
       "Name: 0, dtype: object"
      ]
     },
     "metadata": {},
     "output_type": "display_data"
    },
    {
     "name": "stdout",
     "output_type": "stream",
     "text": [
      "Summary of Changes for each Column:\n"
     ]
    },
    {
     "data": {
      "text/html": [
       "<div>\n",
       "<style scoped>\n",
       "    .dataframe tbody tr th:only-of-type {\n",
       "        vertical-align: middle;\n",
       "    }\n",
       "\n",
       "    .dataframe tbody tr th {\n",
       "        vertical-align: top;\n",
       "    }\n",
       "\n",
       "    .dataframe thead th {\n",
       "        text-align: right;\n",
       "    }\n",
       "</style>\n",
       "<table border=\"1\" class=\"dataframe\">\n",
       "  <thead>\n",
       "    <tr style=\"text-align: right;\">\n",
       "      <th></th>\n",
       "      <th>Column</th>\n",
       "      <th>Number of Changes</th>\n",
       "    </tr>\n",
       "  </thead>\n",
       "  <tbody>\n",
       "    <tr>\n",
       "      <th>1</th>\n",
       "      <td>is_changed_species_count</td>\n",
       "      <td>1</td>\n",
       "    </tr>\n",
       "    <tr>\n",
       "      <th>0</th>\n",
       "      <td>is_changed_species</td>\n",
       "      <td>0</td>\n",
       "    </tr>\n",
       "  </tbody>\n",
       "</table>\n",
       "</div>"
      ],
      "text/plain": [
       "                     Column  Number of Changes\n",
       "1  is_changed_species_count                  1\n",
       "0        is_changed_species                  0"
      ]
     },
     "metadata": {},
     "output_type": "display_data"
    }
   ],
   "source": [
    "import pandas as pd\n",
    "import matplotlib.pyplot as plt\n",
    "import seaborn as sns\n",
    "# Example: Loading two CSV files into DataFrames\n",
    "df_old = pandas.read_csv('data-sources/row-all-operations.csv')\n",
    "df_new = pandas.read_csv('data-sources/row-all-operations-diff.csv')\n",
    "\n",
    "# Step 2: Identify Added, Removed, and Changed Rows\n",
    "\n",
    "# Merge on unique identifier (e.g., 'id')\n",
    "merged = df_old.merge(df_new, on='id', how='outer', suffixes=('_old', '_new'), indicator=True)\n",
    "\n",
    "# Identify added, removed, and potentially changed rows\n",
    "added_rows = merged[merged['_merge'] == 'right_only'].copy()  # Create a copy\n",
    "removed_rows = merged[merged['_merge'] == 'left_only'].copy()  # Create a copy\n",
    "changed_rows = merged[merged['_merge'] == 'both'].copy()  # Create a copy\n",
    "\n",
    "# Reset index to avoid chained assignment issues\n",
    "added_rows = added_rows.reset_index(drop=True)\n",
    "removed_rows = removed_rows.reset_index(drop=True)\n",
    "changed_rows = changed_rows.reset_index(drop=True)\n",
    "\n",
    "# Step 3: Identify Changed Columns in Changed Rows\n",
    "\n",
    "# List of columns to compare (excluding 'id')\n",
    "columns_to_compare = df_old.columns.difference(['id'])\n",
    "\n",
    "# Iterate over each column to compare\n",
    "for column in columns_to_compare:\n",
    "    old_col = column + '_old'\n",
    "    new_col = column + '_new'\n",
    "    # Create a boolean column to indicate if the value changed using .loc\n",
    "    changed_rows.loc[:, 'is_changed_' + column] = changed_rows[old_col] != changed_rows[new_col]\n",
    "\n",
    "# Step 4: Visualize Added, Removed, and Changed Rows\n",
    "\n",
    "# Visualization of Added, Removed, and Changed Rows with a Bar Chart\n",
    "# Bar chart showing added, removed, and changed rows\n",
    "change_summary = pd.DataFrame({\n",
    "    'Change Type': ['Added', 'Removed', 'Changed'],\n",
    "    'Count': [len(added_rows), len(removed_rows), len(changed_rows)]\n",
    "})\n",
    "\n",
    "plt.figure(figsize=(8, 6))\n",
    "plt.bar(change_summary['Change Type'], change_summary['Count'], color=['green', 'red', 'blue'])\n",
    "plt.xlabel('Change Type')\n",
    "plt.ylabel('Number of Rows')\n",
    "plt.title('Dataset Additions, Removals, and Changes')\n",
    "plt.show()\n",
    "\n",
    "# Visualization of Changed Columns with a Heatmap\n",
    "\n",
    "# Create a matrix to visualize the changes (1 if changed, 0 if not)\n",
    "change_matrix = changed_rows.set_index('id')[['is_changed_' + col for col in columns_to_compare]].astype(int)\n",
    "\n",
    "# Plot heatmap\n",
    "plt.figure(figsize=(12, 8))\n",
    "sns.heatmap(change_matrix, cmap=\"coolwarm\", cbar=False, linewidths=0.5)\n",
    "plt.title('Heatmap of Changed Columns')\n",
    "plt.xlabel('Columns')\n",
    "plt.ylabel('ID')\n",
    "plt.show()\n",
    "\n",
    "# Step 5: Display Detailed Changes for Added, Removed, and Changed Rows\n",
    "\n",
    "# Display Added Rows\n",
    "print(\"Rows Added:\")\n",
    "display(added_rows)\n",
    "\n",
    "# Display Removed Rows\n",
    "print(\"Rows Removed:\")\n",
    "display(removed_rows)\n",
    "\n",
    "# Display Changed Rows with Detailed Column Changes\n",
    "# Display the detailed changes for each row\n",
    "for index, row in changed_rows.iterrows():\n",
    "    changed_columns = [col for col in columns_to_compare if row['is_changed_' + col]]\n",
    "    if changed_columns:\n",
    "        print(f\"ID: {row['id']} - Changed Columns: {changed_columns}\")\n",
    "        display(row[[\"id\"] + [col + '_old' for col in changed_columns] + [col + '_new' for col in changed_columns]])\n",
    "\n",
    "# Summary of Changes for each Column\n",
    "\n",
    "# Summary of how many times each column was changed\n",
    "change_summary = change_matrix.sum().reset_index()\n",
    "change_summary.columns = ['Column', 'Number of Changes']\n",
    "change_summary = change_summary.sort_values(by='Number of Changes', ascending=False)\n",
    "\n",
    "# Display the summary\n",
    "print(\"Summary of Changes for each Column:\")\n",
    "display(change_summary)"
   ]
  },
  {
   "cell_type": "code",
   "execution_count": null,
   "id": "145f5cfd-a528-44d4-9ab0-4068b7a0a81e",
   "metadata": {},
   "outputs": [],
   "source": []
  }
 ],
 "metadata": {
  "kernelspec": {
   "display_name": "Python 3 (ipykernel)",
   "language": "python",
   "name": "python3"
  },
  "language_info": {
   "codemirror_mode": {
    "name": "ipython",
    "version": 3
   },
   "file_extension": ".py",
   "mimetype": "text/x-python",
   "name": "python",
   "nbconvert_exporter": "python",
   "pygments_lexer": "ipython3",
   "version": "3.11.9"
  }
 },
 "nbformat": 4,
 "nbformat_minor": 5
}
